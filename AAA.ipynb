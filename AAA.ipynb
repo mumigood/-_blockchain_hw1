{
 "cells": [
  {
   "cell_type": "code",
   "execution_count": 5,
   "metadata": {},
   "outputs": [
    {
     "name": "stderr",
     "output_type": "stream",
     "text": [
      "usage: ipykernel_launcher.py [-h] [-a ARG1] [--arg2 [ARG2]]\n",
      "                             [first_position_arg]\n",
      "ipykernel_launcher.py: error: unrecognized arguments: -f\n"
     ]
    },
    {
     "ename": "SystemExit",
     "evalue": "2",
     "output_type": "error",
     "traceback": [
      "An exception has occurred, use %tb to see the full traceback.\n",
      "\u001b[1;31mSystemExit\u001b[0m\u001b[1;31m:\u001b[0m 2\n"
     ]
    }
   ],
   "source": [
    "## test.py\n",
    "import argparse\n",
    "parser = argparse.ArgumentParser()\n",
    "parser.add_argument(\"first_position_arg\",\n",
    "                    nargs='?',\n",
    "                    help=\"這是第 1 個位置引數，請輸入兩個任意值\")\n",
    "parser.add_argument(\"-a\",\n",
    "                    \"--arg1\",\n",
    "                    type=str,\n",
    "                    default=\"sss\",\n",
    "                    help=\"這是第 1 個選項引數，請輸入一個字串\")\n",
    "parser.add_argument(\"--arg2\",\n",
    "                    nargs='?',\n",
    "                    type=int,\n",
    "                    default=1,\n",
    "                    help=\"這是第 2 個選項引數，請輸入三個整數\")\n",
    "args = parser.parse_args()\n",
    "print(args)\n",
    "    "
   ]
  },
  {
   "cell_type": "code",
   "execution_count": null,
   "metadata": {},
   "outputs": [],
   "source": []
  }
 ],
 "metadata": {
  "kernelspec": {
   "display_name": "Python 3",
   "language": "python",
   "name": "python3"
  },
  "language_info": {
   "codemirror_mode": {
    "name": "ipython",
    "version": 3
   },
   "file_extension": ".py",
   "mimetype": "text/x-python",
   "name": "python",
   "nbconvert_exporter": "python",
   "pygments_lexer": "ipython3",
   "version": "3.6.8"
  }
 },
 "nbformat": 4,
 "nbformat_minor": 2
}
